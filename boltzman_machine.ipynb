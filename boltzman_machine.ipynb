{
  "nbformat": 4,
  "nbformat_minor": 0,
  "metadata": {
    "colab": {
      "name": "boltzman_machine.ipynb",
      "provenance": [],
      "collapsed_sections": [],
      "mount_file_id": "1jWROBb5cF4ZQN_pY0OdXOZVXq8EoVS59",
      "authorship_tag": "ABX9TyMeHqTU/zZPUmQ4gwGz4XOx",
      "include_colab_link": true
    },
    "kernelspec": {
      "name": "python3",
      "display_name": "Python 3"
    }
  },
  "cells": [
    {
      "cell_type": "markdown",
      "metadata": {
        "id": "view-in-github",
        "colab_type": "text"
      },
      "source": [
        "<a href=\"https://colab.research.google.com/github/abegpatel/movie-recomendation-system-using-Autoencoder/blob/master/boltzman_machine.ipynb\" target=\"_parent\"><img src=\"https://colab.research.google.com/assets/colab-badge.svg\" alt=\"Open In Colab\"/></a>"
      ]
    },
    {
      "cell_type": "markdown",
      "metadata": {
        "id": "hmNUDMmUlfu3",
        "colab_type": "text"
      },
      "source": [
        "**boltzman machine:**\n",
        "1.boltzman machine\n",
        "2.energy based model(EBM)\n",
        "3.restricted Boltzman machine(RBM)\n",
        "4.contrastive divergence(CD)\n",
        "5.deep boltzman network(DBN)\n",
        "\n"
      ]
    },
    {
      "cell_type": "markdown",
      "metadata": {
        "id": "RILlqkSZl-VD",
        "colab_type": "text"
      },
      "source": [
        "**Energy based model**\n",
        ".it is aunsupervised learning\n",
        ".used for recomendation system\n",
        ".visible node(input node)->hidden nodes(hidden layer)\n",
        ".evry input connect to evrey hidden layer\n",
        ".bi-directional\n",
        ".capabel generating parameters of its own->doesnot require i/p\n",
        ".generates diff states\n",
        ".stocastic or generative deep learn model\n",
        ".training data->boltzman machine->adjust weights(learn foem each other charcterstics)parameter interact with each other\n",
        ".all parameter connected to each other(not visible not hidden)\n",
        "\n",
        "\n",
        "\n"
      ]
    },
    {
      "cell_type": "markdown",
      "metadata": {
        "id": "iCCp0jXrpmcn",
        "colab_type": "text"
      },
      "source": [
        "**energy based model**(EBM)\n",
        ".pi=(e^-energyi /kT)/(sum j=1 to M)e^-energyj/kT\n",
        ".the probability of state inversely proportional to energy of the sys\n",
        "eg.room has wind molecule\n",
        " energy is high of molecule the probability is low(if for all molecule are placed together in corner)\n",
        " if any thing like water,molecule,ink(it can be spread every where)becauce that is their lowest energy state..)always these element are find its lower energy state\n",
        ".energy is define through its weights..and it try to get its lowest energy state\n",
        "E(v,h)=-sumi(aivi)-sumj(bjhj)-sumisumj(viwihj)\n",
        "p(v,h)=1/Ze^-e(v,h)#probability\n",
        "\n",
        "\n"
      ]
    },
    {
      "cell_type": "markdown",
      "metadata": {
        "id": "iN360QeZtfZj",
        "colab_type": "text"
      },
      "source": [
        "**.restricted Boltzman machine(RBM)**\n",
        ".here hidden nodes can not connected to each other\n",
        "and visible nodes connected to each other\n",
        ".learn how to allocate the hidden nodes to certain features\n",
        ".finding som association rules->connect to a certain features\n",
        "if new row->if like (1) unlike(0)\n",
        "(train it self to get the certain feature connceted to hidden attributs\n",
        ".to make an prediction\n",
        ".acquiring certaion features from hidden layer and predict unkown visible layer\n",
        "\n"
      ]
    },
    {
      "cell_type": "markdown",
      "metadata": {
        "id": "vAqKvVZGtfdm",
        "colab_type": "text"
      },
      "source": [
        "**contrastive divergence(CD)**\n",
        "how weights are adjusted\n",
        "(weights are same) equal weights->reconstruct the i/p\n",
        "(sampling)\n",
        "sample towards the lowest energy state-> creates a model\n",
        ".energy curve\n",
        "\n",
        "\n",
        "\n",
        "\n",
        "\n"
      ]
    },
    {
      "cell_type": "markdown",
      "metadata": {
        "id": "CFJqTg_-1qig",
        "colab_type": "text"
      },
      "source": [
        "**5.deep belief network(DBN)**\n",
        " .greedy layer wise train algorithm-(rbm)\n",
        " .wake-sleep algo-(all up then all down)\n",
        " \n",
        "\n"
      ]
    },
    {
      "cell_type": "markdown",
      "metadata": {
        "id": "Y7-vjefDseav",
        "colab_type": "text"
      },
      "source": [
        "**6.deep botlthman machine**\n",
        "can extract complex features\n"
      ]
    },
    {
      "cell_type": "code",
      "metadata": {
        "id": "98n9Osh0tJsO",
        "colab_type": "code",
        "colab": {}
      },
      "source": [
        "!unzip -uq \"/content/drive/My Drive/Colab Notebooks/P16-Boltzmann-Machines.zip\" -d \"/content/drive/My Drive/\""
      ],
      "execution_count": null,
      "outputs": []
    },
    {
      "cell_type": "code",
      "metadata": {
        "id": "OzPJRvsFxe-R",
        "colab_type": "code",
        "colab": {}
      },
      "source": [
        "import torch\n",
        "import torch.nn as nn\n",
        "import torch.nn.parallel\n",
        "import torch.optim as optim\n",
        "import torch.utils.data\n",
        "import pandas as pd\n",
        "from torch.autograd import Variable\n",
        "import numpy as np"
      ],
      "execution_count": null,
      "outputs": []
    },
    {
      "cell_type": "code",
      "metadata": {
        "id": "NB-G6AiExu29",
        "colab_type": "code",
        "colab": {}
      },
      "source": [
        "# Importing the dataset\n",
        "movies = pd.read_csv('/content/drive/My Drive/Boltzmann_Machines/ml-1m/movies.dat', sep = '::', header = None, engine = 'python', encoding = 'latin-1')\n",
        "users = pd.read_csv('/content/drive/My Drive/Boltzmann_Machines/ml-1m/users.dat', sep = '::', header = None, engine = 'python', encoding = 'latin-1')\n",
        "ratings = pd.read_csv('/content/drive/My Drive/Boltzmann_Machines/ml-1m/ratings.dat', sep = '::', header = None, engine = 'python', encoding = 'latin-1')"
      ],
      "execution_count": null,
      "outputs": []
    },
    {
      "cell_type": "code",
      "metadata": {
        "id": "IbAGD7lEz0LW",
        "colab_type": "code",
        "colab": {}
      },
      "source": [
        "# Preparing the training set and the test set\n",
        "training_set = pd.read_csv('/content/drive/My Drive/Boltzmann_Machines/ml-100k/u1.base', delimiter = '\\t')\n",
        "training_set = np.array(training_set, dtype = 'int')\n",
        "test_set = pd.read_csv('/content/drive/My Drive/Boltzmann_Machines/ml-100k/u1.test', delimiter = '\\t')\n",
        "test_set = np.array(test_set, dtype = 'int')"
      ],
      "execution_count": null,
      "outputs": []
    },
    {
      "cell_type": "code",
      "metadata": {
        "id": "2h1LF0PQ1LzV",
        "colab_type": "code",
        "colab": {}
      },
      "source": [
        "# Getting the number of users and movies\n",
        "nb_users = int(max(max(training_set[:,0]), max(test_set[:,0])))\n",
        "nb_movies = int(max(max(training_set[:,1]), max(test_set[:,1])))\n"
      ],
      "execution_count": null,
      "outputs": []
    },
    {
      "cell_type": "code",
      "metadata": {
        "id": "5uD5j7_rudfX",
        "colab_type": "code",
        "colab": {
          "base_uri": "https://localhost:8080/",
          "height": 50
        },
        "outputId": "c8354808-8e4a-442e-87f7-8e24f275ad07"
      },
      "source": [
        "print(nb_users)\n",
        "print(nb_movies)"
      ],
      "execution_count": null,
      "outputs": [
        {
          "output_type": "stream",
          "text": [
            "943\n",
            "1682\n"
          ],
          "name": "stdout"
        }
      ]
    },
    {
      "cell_type": "code",
      "metadata": {
        "id": "5_KrA7BO2nK6",
        "colab_type": "code",
        "colab": {}
      },
      "source": [
        "def convert(data):\n",
        "    new_data = []\n",
        "    for id_users in range(1, nb_users + 1):\n",
        "        id_movies = data[:,1][data[:,0] == id_users]\n",
        "        id_ratings = data[:,2][data[:,0] == id_users]\n",
        "        ratings = np.zeros(nb_movies)\n",
        "        ratings[id_movies - 1] = id_ratings\n",
        "        new_data.append(list(ratings))\n",
        "    return new_data\n",
        "training_set = convert(training_set)\n",
        "test_set = convert(test_set)\n"
      ],
      "execution_count": null,
      "outputs": []
    },
    {
      "cell_type": "code",
      "metadata": {
        "id": "tXgL1dQbxFj4",
        "colab_type": "code",
        "colab": {}
      },
      "source": [
        "# Converting the data into Torch tensors\n",
        "training_set = torch.FloatTensor(training_set)\n",
        "test_set = torch.FloatTensor(test_set)"
      ],
      "execution_count": null,
      "outputs": []
    },
    {
      "cell_type": "code",
      "metadata": {
        "id": "90uP4F2fzfYp",
        "colab_type": "code",
        "colab": {}
      },
      "source": [
        "# Converting the ratings into binary ratings 1 (Liked) or 0 (Not Liked)\n",
        "training_set[training_set == 0] = -1\n",
        "training_set[training_set == 1] = 0\n",
        "training_set[training_set == 2] = 0\n",
        "training_set[training_set >= 3] = 1\n",
        "test_set[test_set == 0] = -1\n",
        "test_set[test_set == 1] = 0\n",
        "test_set[test_set == 2] = 0\n",
        "test_set[test_set >= 3] = 1\n",
        "\n"
      ],
      "execution_count": null,
      "outputs": []
    },
    {
      "cell_type": "code",
      "metadata": {
        "id": "EoH9ogAwyu8Q",
        "colab_type": "code",
        "colab": {}
      },
      "source": [
        "# Creating the architecture of the Neural Network\n",
        "class RBM():\n",
        "    def __init__(self, nv, nh):\n",
        "        self.W = torch.randn(nh, nv)\n",
        "        self.a = torch.randn(1, nh)\n",
        "        self.b = torch.randn(1, nv)\n",
        "    def sample_h(self, x):\n",
        "        wx = torch.mm(x, self.W.t())\n",
        "        activation = wx + self.a.expand_as(wx)\n",
        "        p_h_given_v = torch.sigmoid(activation)\n",
        "        return p_h_given_v, torch.bernoulli(p_h_given_v)\n",
        "    def sample_v(self, y):\n",
        "        wy = torch.mm(y, self.W)\n",
        "        activation = wy + self.b.expand_as(wy)\n",
        "        p_v_given_h = torch.sigmoid(activation)\n",
        "        return p_v_given_h, torch.bernoulli(p_v_given_h)\n",
        "    def train(self, v0, vk, ph0, phk):\n",
        "        self.W += (torch.mm(v0.t(), ph0) - torch.mm(vk.t(), phk)).t()\n",
        "        self.b += torch.sum((v0 - vk), 0)\n",
        "        self.a += torch.sum((ph0 - phk), 0)\n",
        "nv = len(training_set[0])\n",
        "nh = 100\n",
        "batch_size = 100\n",
        "rbm = RBM(nv, nh)\n",
        "\n"
      ],
      "execution_count": null,
      "outputs": []
    },
    {
      "cell_type": "code",
      "metadata": {
        "id": "CX8-5-1Ey7L3",
        "colab_type": "code",
        "colab": {
          "base_uri": "https://localhost:8080/",
          "height": 184
        },
        "outputId": "8e3511e3-6cdd-467c-e067-b456703001e1"
      },
      "source": [
        "# Training the RBM\n",
        "nb_epoch = 10\n",
        "for epoch in range(1, nb_epoch + 1):\n",
        "    train_loss = 0\n",
        "    s = 0.\n",
        "    for id_user in range(0, nb_users - batch_size, batch_size):\n",
        "        vk = training_set[id_user:id_user+batch_size]\n",
        "        v0 = training_set[id_user:id_user+batch_size]\n",
        "        ph0,_ = rbm.sample_h(v0)\n",
        "        for k in range(10):\n",
        "            _,hk = rbm.sample_h(vk)\n",
        "            _,vk = rbm.sample_v(hk)\n",
        "            vk[v0<0] = v0[v0<0]\n",
        "        phk,_ = rbm.sample_h(vk)\n",
        "        rbm.train(v0, vk, ph0, phk)\n",
        "        train_loss += torch.mean(torch.abs(v0[v0>=0] - vk[v0>=0]))\n",
        "        s += 1.\n",
        "    print('epoch: '+str(epoch)+' loss: '+str(train_loss/s))\n",
        "\n"
      ],
      "execution_count": null,
      "outputs": [
        {
          "output_type": "stream",
          "text": [
            "epoch: 1 loss: tensor(0.0586)\n",
            "epoch: 2 loss: tensor(0.)\n",
            "epoch: 3 loss: tensor(0.)\n",
            "epoch: 4 loss: tensor(0.)\n",
            "epoch: 5 loss: tensor(0.)\n",
            "epoch: 6 loss: tensor(0.)\n",
            "epoch: 7 loss: tensor(0.)\n",
            "epoch: 8 loss: tensor(0.)\n",
            "epoch: 9 loss: tensor(0.)\n",
            "epoch: 10 loss: tensor(0.)\n"
          ],
          "name": "stdout"
        }
      ]
    },
    {
      "cell_type": "code",
      "metadata": {
        "id": "P0g48lEQy8X_",
        "colab_type": "code",
        "colab": {
          "base_uri": "https://localhost:8080/",
          "height": 33
        },
        "outputId": "41fd25d8-b15d-4c8a-cf03-a2039debcf0c"
      },
      "source": [
        "# Testing the RBM\n",
        "test_loss = 0\n",
        "s = 0.\n",
        "for id_user in range(nb_users):\n",
        "    v = training_set[id_user:id_user+1]\n",
        "    vt = test_set[id_user:id_user+1]\n",
        "    if len(vt[vt>=0]) > 0:\n",
        "        _,h = rbm.sample_h(v)\n",
        "        _,v = rbm.sample_v(h)\n",
        "        test_loss += torch.mean(torch.abs(vt[vt>=0] - v[vt>=0]))\n",
        "        s += 1.\n",
        "print('test loss: '+str(test_loss/s))"
      ],
      "execution_count": null,
      "outputs": [
        {
          "output_type": "stream",
          "text": [
            "test loss: tensor(0.)\n"
          ],
          "name": "stdout"
        }
      ]
    },
    {
      "cell_type": "code",
      "metadata": {
        "id": "2jMXGmxO13LP",
        "colab_type": "code",
        "colab": {}
      },
      "source": [
        ""
      ],
      "execution_count": null,
      "outputs": []
    }
  ]
}